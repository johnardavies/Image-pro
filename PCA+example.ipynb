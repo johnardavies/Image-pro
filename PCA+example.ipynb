{
 "cells": [
  {
   "cell_type": "markdown",
   "metadata": {},
   "source": [
    "This code processes a set of images and then returns the average of the images \n",
    "and first set of principal components"
   ]
  },
  {
   "cell_type": "code",
   "execution_count": null,
   "metadata": {
    "collapsed": true
   },
   "outputs": [],
   "source": [
    "#Calculates the number of vectors needed in PCA to explain 95% of the variation\n",
    "from sklearn.decomposition import PCA\n",
    "pca=PCA()\n",
    "pca.fit(X_train)\n",
    "cumsum=np.cumsum(pca.explained_variance_ratio_)\n",
    "d=np.argmax(cumsum>=0.95)+1\n",
    "print(d)"
   ]
  },
  {
   "cell_type": "code",
   "execution_count": null,
   "metadata": {
    "collapsed": true
   },
   "outputs": [],
   "source": [
    "from PIL import Image\n",
    "from numpy import *\n",
    "from pylab import *\n",
    "from sklearn.decomposition import PCA\n",
    "import os\n",
    "\n",
    "#Returns the files in the filepath\n",
    "def getim_list(path):\n",
    "    return[os.path.join(path,f) for f in os.listdir(path) if f.endswith('jpg')]\n",
    "\n",
    "#filepath to where the images are stored\n",
    "pathlist='filepath'\n",
    "\n",
    "imlist=getim_list(pathlist)\n",
    "\n",
    "#Removes the smaller images where there is no streetview image\n",
    "imlist2=[]\n",
    "for im in imlist:\n",
    "    if os.stat(im).st_size> 8923:\n",
    "     imlist2.append(im)\n",
    "\n",
    "#Loops through the first 1000 images and flattens them into an array\n",
    "#The convert('L') switches it into black and white\n",
    "immatrix=array([array(Image.open(im).convert('L')).flatten() for im in imlist2[1:1000]], 'f') \n",
    "\n",
    "############################################################################################\n",
    "#The pca function\n",
    "def pca(X):\n",
    "# Principal Component Analysis\n",
    "# input: X, matrix with training data stored as flattened arrays in rows\n",
    "# return: projection matrix (with important dimensions first), variance and mean.\n",
    "\n",
    "# get dimensions\n",
    " num_data,dim = X.shape\n",
    "# center data\n",
    " mean_X = X.mean(axis=0)\n",
    " X = X - mean_X\n",
    " if dim>num_data:\n",
    " # PCA - compact trick used\n",
    "   M = dot(X,X.T) # covariance matrix\n",
    "   e,EV = linalg.eigh(M) # eigenvalues and eigenvectors\n",
    "   tmp = dot(X.T,EV).T # this is the compact trick\n",
    "   V = tmp[::-1] # reverse since last eigenvectors are the ones we want\n",
    "   S = sqrt(e)[::-1] # reverse since eigenvalues are in increasing order\n",
    "   for i in range(V.shape[1]):\n",
    "     V[:,i] /= S\n",
    " else:\n",
    "# PCA - SVD used\n",
    "  U,S,V = linalg.svd(X)\n",
    "  V = V[:num_data] # only makes sense to return the first num_data\n",
    "# return the projection matrix, the variance and the mean\n",
    " return V,S,mean_X\n",
    "\n",
    "################################################################################################\n",
    "#Gets the size of the first image\n",
    "im=array(Image.open(imlist[0]))\n",
    "m,n=im.shape[0:2]\n",
    "\n",
    "#Calculates the pca analysis                \n",
    "V,S,immean=pca(immatrix)\n",
    "\n",
    "figure()\n",
    "gray()\n",
    "#sublot five rows, four columns and the first picture which is the average image\n",
    "subplot(5,4,1)\n",
    "#Converts the image back to picture shape and plots the mean picture\n",
    "imshow(immean.reshape(m,n))\n",
    "\n",
    "for i in range(19):\n",
    "    subplot(5,4,i+2)\n",
    "    imshow(V[i].reshape(m,n))\n",
    "\n",
    "show()\n"
   ]
  }
 ],
 "metadata": {
  "kernelspec": {
   "display_name": "Python [conda env:py27]",
   "language": "python",
   "name": "conda-env-py27-py"
  },
  "language_info": {
   "codemirror_mode": {
    "name": "ipython",
    "version": 2
   },
   "file_extension": ".py",
   "mimetype": "text/x-python",
   "name": "python",
   "nbconvert_exporter": "python",
   "pygments_lexer": "ipython2",
   "version": "2.7.13"
  }
 },
 "nbformat": 4,
 "nbformat_minor": 1
}
